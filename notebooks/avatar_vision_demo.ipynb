{
 "cells": [
  {
   "cell_type": "markdown",
   "metadata": {},
   "source": [
    "# Avatar Vision Demo\n",
    "\n",
    "Demonstrates how YOLOE detections influence avatar selection."
   ]
  },
  {
   "cell_type": "code",
   "execution_count": 1,
   "metadata": {},
   "outputs": [],
   "source": [
    "from agents.albedo import consume_detections, current_avatar\n",
    "from vision.yoloe_adapter import Detection"
   ]
  },
  {
   "cell_type": "code",
   "execution_count": 2,
   "metadata": {},
   "outputs": [
    {
     "name": "stdout",
     "output_type": "stream",
     "text": ["avatars/cat.png\n"]
    }
   ],
   "source": [
    "consume_detections([Detection('cat', 0.9, (0, 0, 10, 10))])\n",
    "print(current_avatar())"
   ]
  },
  {
   "cell_type": "code",
   "execution_count": 3,
   "metadata": {},
   "outputs": [
    {
     "name": "stdout",
     "output_type": "stream",
     "text": ["avatars/dog.png\n"]
    }
   ],
   "source": [
    "consume_detections([Detection('dog', 0.8, (5, 5, 15, 15))])\n",
    "print(current_avatar())"
   ]
  }
 ],
 "metadata": {
  "kernelspec": {
   "display_name": "Python 3",
   "language": "python",
   "name": "python3"
  },
  "language_info": {
   "name": "python",
   "version": "3.10"
  }
 },
 "nbformat": 4,
 "nbformat_minor": 5
}
