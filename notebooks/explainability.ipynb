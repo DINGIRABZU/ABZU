{
 "cells": [
  {
   "cell_type": "markdown",
   "metadata": {},
   "source": [
    "# Explainability with SHAP\n",
    "\n",
    "This notebook illustrates how to use SHAP to interpret model predictions."
   ]
  },
  {
   "cell_type": "code",
   "execution_count": null,
   "metadata": {},
   "outputs": [],
   "source": [
    "import torch\n",
    "import shap\n",
    "from torch import nn\n",
    "\n",
    "# Simple model and random data\n",
    "model = nn.Linear(4, 1)\n",
    "x = torch.randn(100, 4)\n",
    "\n",
    "explainer = shap.DeepExplainer(model, x[:10])\n",
    "shap_values = explainer.shap_values(x[10:20])\n",
    "shap.summary_plot(shap_values, x[10:20].numpy())\n"
   ]
  }
 ],
 "metadata": {
  "kernelspec": {
   "display_name": "Python 3",
   "language": "python",
   "name": "python3"
  },
  "language_info": {
   "name": "python",
   "version": "3.10"
  }
 },
 "nbformat": 4,
 "nbformat_minor": 5
}
