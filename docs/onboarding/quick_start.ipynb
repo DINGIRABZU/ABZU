{
 "cells": [
  {
   "cell_type": "markdown",
   "id": "50bb999a",
   "metadata": {},
   "source": [
    "# ABZU Quick Start"
   ]
  },
  {
   "cell_type": "markdown",
   "id": "f262872f",
   "metadata": {},
   "source": [
    "This notebook walks through the basic environment setup. Commands are run in dry-run mode so they only display the actions."
   ]
  },
  {
   "cell_type": "code",
   "execution_count": 1,
   "id": "290e5b40",
   "metadata": {
    "execution": {
     "iopub.execute_input": "2025-08-23T22:11:37.799282Z",
     "iopub.status.busy": "2025-08-23T22:11:37.798952Z",
     "iopub.status.idle": "2025-08-23T22:11:37.807279Z",
     "shell.execute_reply": "2025-08-23T22:11:37.804591Z"
    }
   },
   "outputs": [],
   "source": [
    "from wizard import (\n",
    "    clone_repo,\n",
    "    create_virtualenv,\n",
    "    run_setup_script,\n",
    "    download_model,\n",
    "    run_smoke_tests,\n",
    ")"
   ]
  },
  {
   "cell_type": "markdown",
   "id": "55371538",
   "metadata": {},
   "source": [
    "## 1. Clone the repository"
   ]
  },
  {
   "cell_type": "code",
   "execution_count": 2,
   "id": "fffc1cf2",
   "metadata": {
    "execution": {
     "iopub.execute_input": "2025-08-23T22:11:37.810801Z",
     "iopub.status.busy": "2025-08-23T22:11:37.810484Z",
     "iopub.status.idle": "2025-08-23T22:11:37.815388Z",
     "shell.execute_reply": "2025-08-23T22:11:37.814528Z"
    }
   },
   "outputs": [
    {
     "name": "stdout",
     "output_type": "stream",
     "text": [
      "DRY RUN: git clone https://github.com/your-org/ABZU.git ABZU\n"
     ]
    }
   ],
   "source": [
    "clone_repo(dry_run=True)"
   ]
  },
  {
   "cell_type": "markdown",
   "id": "3895f76e",
   "metadata": {},
   "source": [
    "## 2. Create a virtual environment"
   ]
  },
  {
   "cell_type": "code",
   "execution_count": 3,
   "id": "d2b51f35",
   "metadata": {
    "execution": {
     "iopub.execute_input": "2025-08-23T22:11:37.817928Z",
     "iopub.status.busy": "2025-08-23T22:11:37.817652Z",
     "iopub.status.idle": "2025-08-23T22:11:37.822009Z",
     "shell.execute_reply": "2025-08-23T22:11:37.821194Z"
    }
   },
   "outputs": [
    {
     "name": "stdout",
     "output_type": "stream",
     "text": [
      "DRY RUN: python -m venv .venv\n"
     ]
    }
   ],
   "source": [
    "create_virtualenv(dry_run=True)"
   ]
  },
  {
   "cell_type": "markdown",
   "id": "ad02317f",
   "metadata": {},
   "source": [
    "## 3. Run the setup script"
   ]
  },
  {
   "cell_type": "code",
   "execution_count": 4,
   "id": "88e73fdd",
   "metadata": {
    "execution": {
     "iopub.execute_input": "2025-08-23T22:11:37.824629Z",
     "iopub.status.busy": "2025-08-23T22:11:37.824349Z",
     "iopub.status.idle": "2025-08-23T22:11:37.828304Z",
     "shell.execute_reply": "2025-08-23T22:11:37.827456Z"
    }
   },
   "outputs": [
    {
     "name": "stdout",
     "output_type": "stream",
     "text": [
      "DRY RUN: scripts/easy_setup.sh\n"
     ]
    }
   ],
   "source": [
    "run_setup_script(dry_run=True)"
   ]
  },
  {
   "cell_type": "markdown",
   "id": "ac2502d1",
   "metadata": {},
   "source": [
    "## 4. Download model weights"
   ]
  },
  {
   "cell_type": "code",
   "execution_count": 5,
   "id": "6a8e89c9",
   "metadata": {
    "execution": {
     "iopub.execute_input": "2025-08-23T22:11:37.831289Z",
     "iopub.status.busy": "2025-08-23T22:11:37.830983Z",
     "iopub.status.idle": "2025-08-23T22:11:37.835151Z",
     "shell.execute_reply": "2025-08-23T22:11:37.834320Z"
    }
   },
   "outputs": [
    {
     "name": "stdout",
     "output_type": "stream",
     "text": [
      "DRY RUN: python download_models.py glm41v_9b --int8\n"
     ]
    }
   ],
   "source": [
    "download_model(\"glm41v_9b\", dry_run=True)"
   ]
  },
  {
   "cell_type": "markdown",
   "id": "b45ba14c",
   "metadata": {},
   "source": [
    "## 5. Run smoke console test"
   ]
  },
  {
   "cell_type": "code",
   "execution_count": 6,
   "id": "e881d6b1",
   "metadata": {
    "execution": {
     "iopub.execute_input": "2025-08-23T22:11:37.837742Z",
     "iopub.status.busy": "2025-08-23T22:11:37.837456Z",
     "iopub.status.idle": "2025-08-23T22:11:37.841310Z",
     "shell.execute_reply": "2025-08-23T22:11:37.840610Z"
    }
   },
   "outputs": [
    {
     "name": "stdout",
     "output_type": "stream",
     "text": [
      "DRY RUN: bash scripts/smoke_console_interface.sh\n"
     ]
    }
   ],
   "source": [
    "run_smoke_tests(dry_run=True)"
   ]
  }
 ],
 "metadata": {
  "language_info": {
   "codemirror_mode": {
    "name": "ipython",
    "version": 3
   },
   "file_extension": ".py",
   "mimetype": "text/x-python",
   "name": "python",
   "nbconvert_exporter": "python",
   "pygments_lexer": "ipython3",
   "version": "3.12.10"
  }
 },
 "nbformat": 4,
 "nbformat_minor": 5
}
